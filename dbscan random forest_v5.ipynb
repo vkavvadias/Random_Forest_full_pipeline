{
 "cells": [
  {
   "cell_type": "code",
   "execution_count": 1,
   "metadata": {},
   "outputs": [],
   "source": [
    "import numpy as np\n",
    "import pandas as pd\n",
    "from sklearn.metrics import recall_score\n",
    "from sklearn.impute import SimpleImputer\n",
    "from sklearn.model_selection import train_test_split\n",
    "from sklearn import svm\n",
    "from sklearn.metrics import accuracy_score\n",
    "from sklearn.metrics import precision_score\n",
    "from sklearn.metrics import f1_score\n",
    "from sklearn.metrics import confusion_matrix\n",
    "import matplotlib.pyplot as plt\n",
    "import seaborn as sns\n",
    "from sklearn.feature_selection import SelectKBest \n",
    "from sklearn.ensemble import RandomForestClassifier\n",
    "from sklearn.feature_selection import chi2\n",
    "from sklearn.metrics import classification_report\n",
    "%matplotlib inline"
   ]
  },
  {
   "cell_type": "code",
   "execution_count": 2,
   "metadata": {},
   "outputs": [],
   "source": [
    "from sklearn.metrics import classification_report\n",
    "import matplotlib.pyplot as plt\n",
    "import numpy as np\n",
    "\n",
    "def show_values(pc, fmt=\"%.2f\", **kw):\n",
    "    '''\n",
    "    Heatmap with text in each cell with matplotlib's pyplot\n",
    "    Source: https://stackoverflow.com/a/25074150/395857 \n",
    "    By HYRY\n",
    "    '''\n",
    "    pc.update_scalarmappable()\n",
    "    ax = pc.axes\n",
    "    #ax = pc.axes# FOR LATEST MATPLOTLIB\n",
    "    #Use zip BELOW IN PYTHON 3\n",
    "    for p, color, value in zip(pc.get_paths(), pc.get_facecolors(), pc.get_array()):\n",
    "        x, y = p.vertices[:-2, :].mean(0)\n",
    "        if np.all(color[:3] > 0.5):\n",
    "            color = (0.0, 0.0, 0.0)\n",
    "        else:\n",
    "            color = (1.0, 1.0, 1.0)\n",
    "        ax.text(x, y, fmt % value, ha=\"center\", va=\"center\", color=color, **kw)\n",
    "\n",
    "\n",
    "def cm2inch(*tupl):\n",
    "    '''\n",
    "    Specify figure size in centimeter in matplotlib\n",
    "    Source: https://stackoverflow.com/a/22787457/395857\n",
    "    By gns-ank\n",
    "    '''\n",
    "    inch = 2.54\n",
    "    if type(tupl[0]) == tuple:\n",
    "        return tuple(i/inch for i in tupl[0])\n",
    "    else:\n",
    "        return tuple(i/inch for i in tupl)\n",
    "\n",
    "\n",
    "def heatmap(AUC, title, xlabel, ylabel, xticklabels, yticklabels, figure_width=40, figure_height=20, correct_orientation=False, cmap='RdBu'):\n",
    "    '''\n",
    "    Inspired by:\n",
    "    - https://stackoverflow.com/a/16124677/395857 \n",
    "    - https://stackoverflow.com/a/25074150/395857\n",
    "    '''\n",
    "\n",
    "    # Plot it out\n",
    "    fig, ax = plt.subplots()    \n",
    "    #c = ax.pcolor(AUC, edgecolors='k', linestyle= 'dashed', linewidths=0.2, cmap='RdBu', vmin=0.0, vmax=1.0)\n",
    "    c = ax.pcolor(AUC, edgecolors='k', linestyle= 'dashed', linewidths=0.2, cmap=cmap, vmin=0.0, vmax=1.0)\n",
    "\n",
    "    # put the major ticks at the middle of each cell\n",
    "    ax.set_yticks(np.arange(AUC.shape[0]) + 0.5, minor=False)\n",
    "    ax.set_xticks(np.arange(AUC.shape[1]) + 0.5, minor=False)\n",
    "\n",
    "    # set tick labels\n",
    "    #ax.set_xticklabels(np.arange(1,AUC.shape[1]+1), minor=False)\n",
    "    ax.set_xticklabels(xticklabels, minor=False)\n",
    "    ax.set_yticklabels(yticklabels, minor=False)\n",
    "\n",
    "    # set title and x/y labels\n",
    "    plt.title(title, y=1.25)\n",
    "    plt.xlabel(xlabel)\n",
    "    plt.ylabel(ylabel)      \n",
    "\n",
    "    # Remove last blank column\n",
    "    plt.xlim( (0, AUC.shape[1]) )\n",
    "\n",
    "    # Turn off all the ticks\n",
    "    ax = plt.gca()    \n",
    "    for t in ax.xaxis.get_major_ticks():\n",
    "        t.tick1line.set_visible(False)\n",
    "        t.tick2line.set_visible(False)\n",
    "    for t in ax.yaxis.get_major_ticks():\n",
    "        t.tick1line.set_visible(False)\n",
    "        t.tick2line.set_visible(False)\n",
    "\n",
    "    # Add color bar\n",
    "    plt.colorbar(c)\n",
    "\n",
    "    # Add text in each cell \n",
    "    show_values(c)\n",
    "\n",
    "    # Proper orientation (origin at the top left instead of bottom left)\n",
    "    if correct_orientation:\n",
    "        ax.invert_yaxis()\n",
    "        ax.xaxis.tick_top()       \n",
    "\n",
    "    # resize \n",
    "    fig = plt.gcf()\n",
    "    #fig.set_size_inches(cm2inch(40, 20))\n",
    "    #fig.set_size_inches(cm2inch(40*4, 20*4))\n",
    "    fig.set_size_inches(cm2inch(figure_width, figure_height))\n",
    "\n",
    "\n",
    "\n",
    "def plot_classification_report(classification_report, number_of_classes=10, title='Classification report ', cmap='RdYlGn'):\n",
    "    '''\n",
    "    Plot scikit-learn classification report.\n",
    "    Extension based on https://stackoverflow.com/a/31689645/395857 \n",
    "    '''\n",
    "    lines = classification_report.split('\\n')\n",
    "    \n",
    "    #drop initial lines\n",
    "    lines = lines[2:]\n",
    "\n",
    "    classes = []\n",
    "    plotMat = []\n",
    "    support = []\n",
    "    class_names = []\n",
    "    for line in lines[: number_of_classes]:\n",
    "        t = list(filter(None, line.strip().split('  ')))\n",
    "        if len(t) < 4: continue\n",
    "        classes.append(t[0])\n",
    "        v = [float(x) for x in t[1: len(t) - 1]]\n",
    "        support.append(int(t[-1]))\n",
    "        class_names.append(t[0])\n",
    "        plotMat.append(v)\n",
    "\n",
    "\n",
    "    xlabel = 'Metrics'\n",
    "    ylabel = 'Classes'\n",
    "    xticklabels = ['Precision', 'Recall', 'F1-score']\n",
    "    yticklabels = ['{0} ({1})'.format(class_names[idx], sup) for idx, sup  in enumerate(support)]\n",
    "    figure_width = 30\n",
    "    figure_height = len(class_names) + 3\n",
    "    correct_orientation = True\n",
    "    heatmap(np.array(plotMat), title, xlabel, ylabel, xticklabels, yticklabels, figure_width, figure_height, correct_orientation, cmap=cmap)\n",
    "    plt.show()"
   ]
  },
  {
   "cell_type": "code",
   "execution_count": 3,
   "metadata": {},
   "outputs": [],
   "source": [
    "import warnings\n",
    "warnings.filterwarnings(\"ignore\")"
   ]
  },
  {
   "cell_type": "code",
   "execution_count": 5,
   "metadata": {},
   "outputs": [
    {
     "data": {
      "text/html": [
       "<div>\n",
       "<style scoped>\n",
       "    .dataframe tbody tr th:only-of-type {\n",
       "        vertical-align: middle;\n",
       "    }\n",
       "\n",
       "    .dataframe tbody tr th {\n",
       "        vertical-align: top;\n",
       "    }\n",
       "\n",
       "    .dataframe thead th {\n",
       "        text-align: right;\n",
       "    }\n",
       "</style>\n",
       "<table border=\"1\" class=\"dataframe\">\n",
       "  <thead>\n",
       "    <tr style=\"text-align: right;\">\n",
       "      <th></th>\n",
       "      <th>wl_1</th>\n",
       "      <th>wl_2</th>\n",
       "      <th>wl_3</th>\n",
       "      <th>wl_4</th>\n",
       "      <th>wl_5</th>\n",
       "      <th>wl_6</th>\n",
       "      <th>wl_7</th>\n",
       "      <th>wl_8</th>\n",
       "      <th>wl_9</th>\n",
       "      <th>wl_10</th>\n",
       "      <th>...</th>\n",
       "      <th>wl_2532</th>\n",
       "      <th>wl_2533</th>\n",
       "      <th>wl_2534</th>\n",
       "      <th>wl_2535</th>\n",
       "      <th>wl_2536</th>\n",
       "      <th>wl_2537</th>\n",
       "      <th>wl_2538</th>\n",
       "      <th>wl_2539</th>\n",
       "      <th>wl_2540</th>\n",
       "      <th>wl_2541</th>\n",
       "    </tr>\n",
       "  </thead>\n",
       "  <tbody>\n",
       "    <tr>\n",
       "      <th>0</th>\n",
       "      <td>0.995023</td>\n",
       "      <td>0.995796</td>\n",
       "      <td>0.996419</td>\n",
       "      <td>0.996592</td>\n",
       "      <td>0.996400</td>\n",
       "      <td>0.996162</td>\n",
       "      <td>0.995939</td>\n",
       "      <td>0.995468</td>\n",
       "      <td>0.994660</td>\n",
       "      <td>0.993860</td>\n",
       "      <td>...</td>\n",
       "      <td>0.272939</td>\n",
       "      <td>0.270903</td>\n",
       "      <td>0.270920</td>\n",
       "      <td>0.272433</td>\n",
       "      <td>0.273614</td>\n",
       "      <td>0.273439</td>\n",
       "      <td>0.272910</td>\n",
       "      <td>0.273690</td>\n",
       "      <td>0.276081</td>\n",
       "      <td>0.279031</td>\n",
       "    </tr>\n",
       "    <tr>\n",
       "      <th>1</th>\n",
       "      <td>0.994748</td>\n",
       "      <td>0.994386</td>\n",
       "      <td>0.994471</td>\n",
       "      <td>0.994956</td>\n",
       "      <td>0.995422</td>\n",
       "      <td>0.995539</td>\n",
       "      <td>0.995425</td>\n",
       "      <td>0.995358</td>\n",
       "      <td>0.995322</td>\n",
       "      <td>0.995142</td>\n",
       "      <td>...</td>\n",
       "      <td>0.271830</td>\n",
       "      <td>0.272295</td>\n",
       "      <td>0.273950</td>\n",
       "      <td>0.276370</td>\n",
       "      <td>0.278466</td>\n",
       "      <td>0.278616</td>\n",
       "      <td>0.276315</td>\n",
       "      <td>0.273005</td>\n",
       "      <td>0.270592</td>\n",
       "      <td>0.270063</td>\n",
       "    </tr>\n",
       "    <tr>\n",
       "      <th>2</th>\n",
       "      <td>0.994653</td>\n",
       "      <td>0.994253</td>\n",
       "      <td>0.994371</td>\n",
       "      <td>0.994843</td>\n",
       "      <td>0.995302</td>\n",
       "      <td>0.995585</td>\n",
       "      <td>0.995740</td>\n",
       "      <td>0.995723</td>\n",
       "      <td>0.995431</td>\n",
       "      <td>0.995019</td>\n",
       "      <td>...</td>\n",
       "      <td>0.268496</td>\n",
       "      <td>0.268634</td>\n",
       "      <td>0.269640</td>\n",
       "      <td>0.269971</td>\n",
       "      <td>0.269897</td>\n",
       "      <td>0.269991</td>\n",
       "      <td>0.269237</td>\n",
       "      <td>0.266814</td>\n",
       "      <td>0.263856</td>\n",
       "      <td>0.261920</td>\n",
       "    </tr>\n",
       "    <tr>\n",
       "      <th>3</th>\n",
       "      <td>0.994084</td>\n",
       "      <td>0.993575</td>\n",
       "      <td>0.993325</td>\n",
       "      <td>0.993416</td>\n",
       "      <td>0.993584</td>\n",
       "      <td>0.993656</td>\n",
       "      <td>0.993741</td>\n",
       "      <td>0.993872</td>\n",
       "      <td>0.993844</td>\n",
       "      <td>0.993518</td>\n",
       "      <td>...</td>\n",
       "      <td>0.270489</td>\n",
       "      <td>0.270413</td>\n",
       "      <td>0.269644</td>\n",
       "      <td>0.266875</td>\n",
       "      <td>0.263369</td>\n",
       "      <td>0.261937</td>\n",
       "      <td>0.263455</td>\n",
       "      <td>0.266181</td>\n",
       "      <td>0.268273</td>\n",
       "      <td>0.268892</td>\n",
       "    </tr>\n",
       "    <tr>\n",
       "      <th>4</th>\n",
       "      <td>0.994878</td>\n",
       "      <td>0.994686</td>\n",
       "      <td>0.994641</td>\n",
       "      <td>0.994911</td>\n",
       "      <td>0.995582</td>\n",
       "      <td>0.996346</td>\n",
       "      <td>0.996755</td>\n",
       "      <td>0.996686</td>\n",
       "      <td>0.996363</td>\n",
       "      <td>0.996095</td>\n",
       "      <td>...</td>\n",
       "      <td>0.268475</td>\n",
       "      <td>0.269707</td>\n",
       "      <td>0.270266</td>\n",
       "      <td>0.269331</td>\n",
       "      <td>0.267536</td>\n",
       "      <td>0.266209</td>\n",
       "      <td>0.265376</td>\n",
       "      <td>0.263668</td>\n",
       "      <td>0.260674</td>\n",
       "      <td>0.258435</td>\n",
       "    </tr>\n",
       "  </tbody>\n",
       "</table>\n",
       "<p>5 rows × 2541 columns</p>\n",
       "</div>"
      ],
      "text/plain": [
       "       wl_1      wl_2      wl_3      wl_4      wl_5      wl_6      wl_7  \\\n",
       "0  0.995023  0.995796  0.996419  0.996592  0.996400  0.996162  0.995939   \n",
       "1  0.994748  0.994386  0.994471  0.994956  0.995422  0.995539  0.995425   \n",
       "2  0.994653  0.994253  0.994371  0.994843  0.995302  0.995585  0.995740   \n",
       "3  0.994084  0.993575  0.993325  0.993416  0.993584  0.993656  0.993741   \n",
       "4  0.994878  0.994686  0.994641  0.994911  0.995582  0.996346  0.996755   \n",
       "\n",
       "       wl_8      wl_9     wl_10  ...   wl_2532   wl_2533   wl_2534   wl_2535  \\\n",
       "0  0.995468  0.994660  0.993860  ...  0.272939  0.270903  0.270920  0.272433   \n",
       "1  0.995358  0.995322  0.995142  ...  0.271830  0.272295  0.273950  0.276370   \n",
       "2  0.995723  0.995431  0.995019  ...  0.268496  0.268634  0.269640  0.269971   \n",
       "3  0.993872  0.993844  0.993518  ...  0.270489  0.270413  0.269644  0.266875   \n",
       "4  0.996686  0.996363  0.996095  ...  0.268475  0.269707  0.270266  0.269331   \n",
       "\n",
       "    wl_2536   wl_2537   wl_2538   wl_2539   wl_2540   wl_2541  \n",
       "0  0.273614  0.273439  0.272910  0.273690  0.276081  0.279031  \n",
       "1  0.278466  0.278616  0.276315  0.273005  0.270592  0.270063  \n",
       "2  0.269897  0.269991  0.269237  0.266814  0.263856  0.261920  \n",
       "3  0.263369  0.261937  0.263455  0.266181  0.268273  0.268892  \n",
       "4  0.267536  0.266209  0.265376  0.263668  0.260674  0.258435  \n",
       "\n",
       "[5 rows x 2541 columns]"
      ]
     },
     "execution_count": 5,
     "metadata": {},
     "output_type": "execute_result"
    }
   ],
   "source": [
    "dataset = pd.read_csv('dataset_labeled_EC_OC_BC_CC.csv')\n",
    "# df_cancer = df_cancer.drop(DROP_COLUMNS, axis = 1)\n",
    "X = dataset.drop(['Diagnose', 'Nummer-Lab 420'], axis=1)\n",
    "y = dataset['Diagnose']\n",
    "X.head()"
   ]
  },
  {
   "cell_type": "code",
   "execution_count": 6,
   "metadata": {},
   "outputs": [],
   "source": [
    "test = [dataset.groupby('Diagnose').size()]"
   ]
  },
  {
   "cell_type": "code",
   "execution_count": 7,
   "metadata": {},
   "outputs": [
    {
     "data": {
      "image/png": "[encoded data removed]",
      "text/plain": [
       "<Figure size 432x288 with 1 Axes>"
      ]
     },
     "metadata": {
      "needs_background": "light"
     },
     "output_type": "display_data"
    }
   ],
   "source": [
    "from matplotlib import pyplot as plt\n",
    "plt.xlabel('Classes')\n",
    "plt.ylabel('Sample')\n",
    "dataset['Diagnose'].value_counts().plot(kind='bar')\n",
    "plt.show()"
   ]
  },
  {
   "cell_type": "code",
   "execution_count": 8,
   "metadata": {},
   "outputs": [],
   "source": [
    "T_X_train, T_X_test, T_y_train, T_y_test = train_test_split(X, y, shuffle=True, test_size = 0.2,random_state=2019)"
   ]
  },
  {
   "cell_type": "markdown",
   "metadata": {},
   "source": [
    "# Model Without pre-processing "
   ]
  },
  {
   "cell_type": "code",
   "execution_count": 9,
   "metadata": {},
   "outputs": [
    {
     "name": "stdout",
     "output_type": "stream",
     "text": [
      "Accuracy score: 0.7458563535911602\n"
     ]
    }
   ],
   "source": [
    "random_forest = RandomForestClassifier(n_estimators=500, random_state=2019).fit(T_X_train, T_y_train)\n",
    "T_y_pred = random_forest.predict(T_X_test)\n",
    "print('Accuracy score: ' + str(accuracy_score(T_y_test, T_y_pred)))\n",
    "#print('Recall score: ' + str(recall_score(T_y_test, T_y_pred, average='micro')))\n",
    "#print('Precision score: ' + str(precision_score(T_y_test, T_y_pred, average='micro')))\n",
    "#print('F1 score: ' + str(f1_score(T_y_test, T_y_pred, average='micro')))"
   ]
  },
  {
   "cell_type": "code",
   "execution_count": 10,
   "metadata": {},
   "outputs": [],
   "source": [
    "R = recall_score(T_y_test, T_y_pred, average='micro')\n",
    "P = precision_score(T_y_test, T_y_pred, average='micro')"
   ]
  },
  {
   "cell_type": "code",
   "execution_count": 11,
   "metadata": {},
   "outputs": [
    {
     "data": {
      "image/png": "[encoded data removed]",
      "text/plain": [
       "<Figure size 850.394x283.465 with 2 Axes>"
      ]
     },
     "metadata": {
      "needs_background": "light"
     },
     "output_type": "display_data"
    }
   ],
   "source": [
    "plot_classification_report(classification_report(T_y_test, T_y_pred))"
   ]
  },
  {
   "cell_type": "markdown",
   "metadata": {},
   "source": [
    "# Model with pre-processing feature normalization, outlier detection using DB scan, Class imbalance resolve using SMOTE"
   ]
  },
  {
   "cell_type": "code",
   "execution_count": 12,
   "metadata": {
    "scrolled": true
   },
   "outputs": [
    {
     "name": "stdout",
     "output_type": "stream",
     "text": [
      "DBSCAN(eps=0.7)\n",
      "Counter({0: 809, 1: 58, -1: 34, 2: 26})\n",
      "Data sample before removing outliar:  927\n",
      "Data sample After removing outliar:  893\n",
      "Data sample before Smote model 893\n",
      "Data sample after Smote model 5337\n",
      "Accuracy score: 0.9887640449438202\n",
      "Recall score: 0.9887640449438202\n",
      "Precision score: 0.9889618503606054\n",
      "F1 score: 0.9886043575738283\n"
     ]
    }
   ],
   "source": [
    "from sklearn.feature_selection import SelectKBest \n",
    "from sklearn.ensemble import RandomForestClassifier\n",
    "from sklearn.feature_selection import chi2\n",
    "\n",
    "dataset = pd.read_csv('dataset_labeled_all_classes.csv', header = 0)\n",
    "\n",
    "X = dataset.drop(['Diagnose', 'Nummer-Lab 420'], axis=1)\n",
    "y = dataset['Diagnose']\n",
    "from sklearn.cluster import DBSCAN \n",
    "#dbscane\n",
    "from sklearn.preprocessing import normalize \n",
    "from sklearn.preprocessing import StandardScaler\n",
    "scaler = StandardScaler() \n",
    "X_scaled = scaler.fit_transform(X)\n",
    "X_normalized = normalize(X_scaled) \n",
    "db = DBSCAN(eps = 0.7).fit(X_normalized) \n",
    "print(db)\n",
    "labels1 = db.labels_ \n",
    "from collections import Counter\n",
    "print(Counter(db.labels_))\n",
    "outliar_df = pd.DataFrame(X)\n",
    "list(outliar_df[db.labels_==-1].index)\n",
    "print(\"Data sample before removing outliar: \", len(y))\n",
    "X.drop(list(outliar_df[db.labels_==-1].index), inplace=True)\n",
    "y.drop(list(outliar_df[db.labels_==-1].index), inplace=True)\n",
    "print(\"Data sample After removing outliar: \", len(y))\n",
    "\n",
    "from imblearn.over_sampling import SMOTE\n",
    "\n",
    "\n",
    "cc = SMOTE(k_neighbors=1)\n",
    "T_X_res, T_y_res = cc.fit_resample(X, y)\n",
    "print(\"Data sample before Smote model\", len(X))\n",
    "print(\"Data sample after Smote model\", len(T_y_res))\n",
    "T_X_train, T_X_test, T_y_train, T_y_test = train_test_split(T_X_res, T_y_res, shuffle=True, test_size = 0.2,random_state=2019)\n",
    "\n",
    "random_forest_S = RandomForestClassifier(n_estimators=500, random_state=2019).fit(T_X_train, T_y_train)\n",
    "T_y_pred = random_forest_S.predict(T_X_test)\n",
    "print('Accuracy score: ' + str(accuracy_score(T_y_test, T_y_pred)))\n",
    "print('Recall score: ' + str(recall_score(T_y_test, T_y_pred, average='weighted')))\n",
    "print('Precision score: ' + str(precision_score(T_y_test, T_y_pred, average='weighted')))\n",
    "print('F1 score: ' + str(f1_score(T_y_test, T_y_pred, average='weighted')))"
   ]
  },
  {
   "cell_type": "code",
   "execution_count": 13,
   "metadata": {},
   "outputs": [
    {
     "data": {
      "image/png": "[encoded data removed]",
      "text/plain": [
       "<Figure size 432x288 with 1 Axes>"
      ]
     },
     "metadata": {
      "needs_background": "light"
     },
     "output_type": "display_data"
    }
   ],
   "source": [
    "predicted_probas = random_forest_S.predict_proba(T_X_test)\n",
    "\n",
    "# The magic happens here\n",
    "import matplotlib.pyplot as plt\n",
    "import scikitplot as skplt\n",
    "skplt.metrics.plot_roc(T_y_test, predicted_probas)\n",
    "plt.show()"
   ]
  },
  {
   "cell_type": "code",
   "execution_count": 14,
   "metadata": {},
   "outputs": [
    {
     "data": {
      "image/png": "[encoded data removed]",
      "text/plain": [
       "<Figure size 432x288 with 1 Axes>"
      ]
     },
     "metadata": {
      "needs_background": "light"
     },
     "output_type": "display_data"
    }
   ],
   "source": [
    "skplt.metrics.plot_precision_recall_curve(T_y_test, predicted_probas)\n",
    "plt.show()"
   ]
  },
  {
   "cell_type": "code",
   "execution_count": 15,
   "metadata": {},
   "outputs": [
    {
     "data": {
      "image/png": "[encoded data removed]",
      "text/plain": [
       "<Figure size 850.394x340.157 with 2 Axes>"
      ]
     },
     "metadata": {
      "needs_background": "light"
     },
     "output_type": "display_data"
    }
   ],
   "source": [
    "plot_classification_report(classification_report(T_y_test, T_y_pred))"
   ]
  },
  {
   "cell_type": "markdown",
   "metadata": {},
   "source": [
    "# Sample after the Smote model"
   ]
  },
  {
   "cell_type": "code",
   "execution_count": 16,
   "metadata": {
    "scrolled": true
   },
   "outputs": [
    {
     "data": {
      "image/png": "[encoded data removed]",
      "text/plain": [
       "<Figure size 432x288 with 1 Axes>"
      ]
     },
     "metadata": {
      "needs_background": "light"
     },
     "output_type": "display_data"
    }
   ],
   "source": [
    "T_X_res['Diagnosis'] = T_y_res\n",
    "from matplotlib import pyplot as plt\n",
    "plt.xlabel('Classes')\n",
    "plt.ylabel('Sample After Smote Model')\n",
    "T_X_res['Diagnosis'].value_counts().plot(kind='bar')\n",
    "plt.show()\n"
   ]
  },
  {
   "cell_type": "markdown",
   "metadata": {},
   "source": [
    "# # Feature with their score.\n",
    "## Feature with highest score is more important"
   ]
  },
  {
   "cell_type": "code",
   "execution_count": 28,
   "metadata": {},
   "outputs": [
    {
     "data": {
      "text/plain": [
       "wl_1680    0.004139\n",
       "wl_1287    0.004090\n",
       "wl_1356    0.003708\n",
       "wl_1678    0.003666\n",
       "wl_1309    0.003570\n",
       "             ...   \n",
       "wl_830     0.000034\n",
       "wl_1896    0.000034\n",
       "wl_848     0.000031\n",
       "wl_1117    0.000029\n",
       "wl_1964    0.000026\n",
       "Length: 2541, dtype: float64"
      ]
     },
     "execution_count": 28,
     "metadata": {},
     "output_type": "execute_result"
    }
   ],
   "source": [
    "feature_scores = pd.Series(random_forest_S.feature_importances_, T_X_train.columns).sort_values(ascending=False)\n",
    "feature_scores"
   ]
  },
  {
   "cell_type": "code",
   "execution_count": 32,
   "metadata": {},
   "outputs": [
    {
     "data": {
      "text/html": [
       "<div>\n",
       "<style scoped>\n",
       "    .dataframe tbody tr th:only-of-type {\n",
       "        vertical-align: middle;\n",
       "    }\n",
       "\n",
       "    .dataframe tbody tr th {\n",
       "        vertical-align: top;\n",
       "    }\n",
       "\n",
       "    .dataframe thead th {\n",
       "        text-align: right;\n",
       "    }\n",
       "</style>\n",
       "<table border=\"1\" class=\"dataframe\">\n",
       "  <thead>\n",
       "    <tr style=\"text-align: right;\">\n",
       "      <th></th>\n",
       "      <th>0</th>\n",
       "    </tr>\n",
       "  </thead>\n",
       "  <tbody>\n",
       "    <tr>\n",
       "      <th>wl_1680</th>\n",
       "      <td>0.004139</td>\n",
       "    </tr>\n",
       "    <tr>\n",
       "      <th>wl_1287</th>\n",
       "      <td>0.004090</td>\n",
       "    </tr>\n",
       "    <tr>\n",
       "      <th>wl_1356</th>\n",
       "      <td>0.003708</td>\n",
       "    </tr>\n",
       "    <tr>\n",
       "      <th>wl_1678</th>\n",
       "      <td>0.003666</td>\n",
       "    </tr>\n",
       "    <tr>\n",
       "      <th>wl_1309</th>\n",
       "      <td>0.003570</td>\n",
       "    </tr>\n",
       "    <tr>\n",
       "      <th>...</th>\n",
       "      <td>...</td>\n",
       "    </tr>\n",
       "    <tr>\n",
       "      <th>wl_830</th>\n",
       "      <td>0.000034</td>\n",
       "    </tr>\n",
       "    <tr>\n",
       "      <th>wl_1896</th>\n",
       "      <td>0.000034</td>\n",
       "    </tr>\n",
       "    <tr>\n",
       "      <th>wl_848</th>\n",
       "      <td>0.000031</td>\n",
       "    </tr>\n",
       "    <tr>\n",
       "      <th>wl_1117</th>\n",
       "      <td>0.000029</td>\n",
       "    </tr>\n",
       "    <tr>\n",
       "      <th>wl_1964</th>\n",
       "      <td>0.000026</td>\n",
       "    </tr>\n",
       "  </tbody>\n",
       "</table>\n",
       "<p>2541 rows × 1 columns</p>\n",
       "</div>"
      ],
      "text/plain": [
       "                0\n",
       "wl_1680  0.004139\n",
       "wl_1287  0.004090\n",
       "wl_1356  0.003708\n",
       "wl_1678  0.003666\n",
       "wl_1309  0.003570\n",
       "...           ...\n",
       "wl_830   0.000034\n",
       "wl_1896  0.000034\n",
       "wl_848   0.000031\n",
       "wl_1117  0.000029\n",
       "wl_1964  0.000026\n",
       "\n",
       "[2541 rows x 1 columns]"
      ]
     },
     "execution_count": 32,
     "metadata": {},
     "output_type": "execute_result"
    }
   ],
   "source": [
    "feature_scores_df = feature_scores.to_frame()\n",
    "feature_scores_df.to_csv('features_scores.csv')\n",
    "feature_scores_df"
   ]
  },
  {
   "cell_type": "markdown",
   "metadata": {},
   "source": [
    "# Model without Smote"
   ]
  },
  {
   "cell_type": "code",
   "execution_count": 18,
   "metadata": {},
   "outputs": [],
   "source": [
    "dataset = pd.read_csv('dataset_labeled_all_classes.csv', header = 0)\n",
    "X = dataset.drop(['Diagnose', 'Nummer-Lab 420'], axis=1)\n",
    "y = dataset['Diagnose']"
   ]
  },
  {
   "cell_type": "markdown",
   "metadata": {},
   "source": [
    "# Normalize features"
   ]
  },
  {
   "cell_type": "code",
   "execution_count": 19,
   "metadata": {},
   "outputs": [],
   "source": [
    "scaler = StandardScaler() \n",
    "X_scaled = scaler.fit_transform(X)\n",
    "X_normalized = normalize(X_scaled) "
   ]
  },
  {
   "cell_type": "markdown",
   "metadata": {},
   "source": [
    "# outlier detection"
   ]
  },
  {
   "cell_type": "code",
   "execution_count": 20,
   "metadata": {},
   "outputs": [
    {
     "name": "stdout",
     "output_type": "stream",
     "text": [
      "DBSCAN(eps=0.7)\n",
      "Counter({0: 809, 1: 58, -1: 34, 2: 26})\n",
      "Data sample before removing outliar:  927\n",
      "Data sample After removing outliar:  893\n"
     ]
    }
   ],
   "source": [
    "db = DBSCAN(eps = 0.7).fit(X_normalized) \n",
    "print(db)\n",
    "labels1 = db.labels_ \n",
    "from collections import Counter\n",
    "print(Counter(db.labels_))\n",
    "outliar_df = pd.DataFrame(X)\n",
    "list(outliar_df[db.labels_==-1].index)\n",
    "print(\"Data sample before removing outliar: \", len(y))\n",
    "X.drop(list(outliar_df[db.labels_==-1].index), inplace=True)\n",
    "y.drop(list(outliar_df[db.labels_==-1].index), inplace=True)\n",
    "print(\"Data sample After removing outliar: \", len(y))"
   ]
  },
  {
   "cell_type": "markdown",
   "metadata": {},
   "source": [
    "# indexes of outlier samples"
   ]
  },
  {
   "cell_type": "code",
   "execution_count": 21,
   "metadata": {},
   "outputs": [
    {
     "data": {
      "text/plain": [
       "[50,\n",
       " 70,\n",
       " 90,\n",
       " 119,\n",
       " 135,\n",
       " 138,\n",
       " 198,\n",
       " 199,\n",
       " 200,\n",
       " 204,\n",
       " 205,\n",
       " 206,\n",
       " 240,\n",
       " 241,\n",
       " 242,\n",
       " 287,\n",
       " 288,\n",
       " 289,\n",
       " 292,\n",
       " 293,\n",
       " 294,\n",
       " 295,\n",
       " 296,\n",
       " 331,\n",
       " 333,\n",
       " 334,\n",
       " 536,\n",
       " 537,\n",
       " 559,\n",
       " 565,\n",
       " 567,\n",
       " 590,\n",
       " 679,\n",
       " 703]"
      ]
     },
     "execution_count": 21,
     "metadata": {},
     "output_type": "execute_result"
    }
   ],
   "source": [
    "list(outliar_df[db.labels_==-1].index)"
   ]
  },
  {
   "cell_type": "markdown",
   "metadata": {},
   "source": [
    "# outlier sample"
   ]
  },
  {
   "cell_type": "code",
   "execution_count": 22,
   "metadata": {},
   "outputs": [
    {
     "data": {
      "image/png": "[encoded data removed]",
      "text/plain": [
       "<Figure size 576x576 with 1 Axes>"
      ]
     },
     "metadata": {
      "needs_background": "light"
     },
     "output_type": "display_data"
    }
   ],
   "source": [
    "from sklearn.manifold import TSNE\n",
    "MAX_N_TSNE = 3500 #Avoid overly long computation times with TSNE. Values < 5000 recommended \n",
    "\n",
    "assert len(X_normalized) <= MAX_N_TSNE, 'Using a dataset with more than {} points is not recommended'.format(\n",
    "                                            MAX_N_TSNE)\n",
    "X_2D = TSNE(n_components=2, perplexity=30, n_iter=400).fit_transform(X_normalized) # collapse in 2-D space for plotting\n",
    "\n",
    "fig, ax = plt.subplots(1, 1, figsize=(8, 8))\n",
    "\n",
    "\n",
    "for i in set(db.labels_):\n",
    "    if i == -1: \n",
    "        #outlier according to dbscan\n",
    "        ax.scatter(X_2D[db.labels_==i, 0], X_2D[db.labels_==i, 1], c='r', s=8, label='DBSCAN Outlier')\n",
    "    else:\n",
    "        ax.scatter(X_2D[db.labels_==i, 0], X_2D[db.labels_==i, 1], s=8, c=[[0.2, 0.3, max(i*0.2 + 0.4, 1)],],\n",
    "                                                                           label='DBSCAN class {}'.format(i))\n",
    "plt.axis('off')\n",
    "plt.legend()\n",
    "plt.show()  "
   ]
  },
  {
   "cell_type": "code",
   "execution_count": 23,
   "metadata": {},
   "outputs": [
    {
     "name": "stdout",
     "output_type": "stream",
     "text": [
      "Accuracy score: 0.7262569832402235\n",
      "Recall score: 0.7262569832402235\n",
      "Precision score: 0.6655810368840274\n",
      "F1 score: 0.685031967167271\n"
     ]
    }
   ],
   "source": [
    "T_X_train, T_X_test, T_y_train, T_y_test = train_test_split(X, y, shuffle=True, test_size = 0.2,random_state=2019)\n",
    "random_forest = RandomForestClassifier(n_estimators=500, random_state=2019).fit(T_X_train, T_y_train)\n",
    "T_y_pred = random_forest.predict(T_X_test)\n",
    "print('Accuracy score: ' + str(accuracy_score(T_y_test, T_y_pred)))\n",
    "print('Recall score: ' + str(recall_score(T_y_test, T_y_pred, average='weighted')))\n",
    "print('Precision score: ' + str(precision_score(T_y_test, T_y_pred, average='weighted')))\n",
    "print('F1 score: ' + str(f1_score(T_y_test, T_y_pred, average='weighted')))"
   ]
  },
  {
   "cell_type": "code",
   "execution_count": 24,
   "metadata": {},
   "outputs": [
    {
     "data": {
      "image/png": "[encoded data removed]",
      "text/plain": [
       "<Figure size 850.394x311.811 with 2 Axes>"
      ]
     },
     "metadata": {
      "needs_background": "light"
     },
     "output_type": "display_data"
    }
   ],
   "source": [
    "plot_classification_report(classification_report(T_y_test, T_y_pred))"
   ]
  },
  {
   "cell_type": "markdown",
   "metadata": {},
   "source": [
    "# Feature with their score.\n",
    "## Feature with highest score is more important"
   ]
  },
  {
   "cell_type": "code",
   "execution_count": 25,
   "metadata": {},
   "outputs": [
    {
     "data": {
      "text/plain": [
       "wl_2464    0.002446\n",
       "wl_2518    0.002246\n",
       "wl_2538    0.002028\n",
       "wl_2489    0.001826\n",
       "wl_2521    0.001811\n",
       "             ...   \n",
       "wl_1119    0.000048\n",
       "wl_881     0.000046\n",
       "wl_702     0.000042\n",
       "wl_1849    0.000040\n",
       "wl_943     0.000037\n",
       "Length: 2541, dtype: float64"
      ]
     },
     "execution_count": 25,
     "metadata": {},
     "output_type": "execute_result"
    }
   ],
   "source": [
    "feature_scores = pd.Series(random_forest.feature_importances_, index=X.columns).sort_values(ascending=False)\n",
    "feature_scores"
   ]
  },
  {
   "cell_type": "markdown",
   "metadata": {},
   "source": [
    "# Final Model with data augmentation"
   ]
  },
  {
   "cell_type": "code",
   "execution_count": 25,
   "metadata": {},
   "outputs": [
    {
     "name": "stdout",
     "output_type": "stream",
     "text": [
      "Model Prediction:  0\n"
     ]
    }
   ],
   "source": [
    "new_sample = X[0:1]\n",
    "print(\"Model Prediction: \", random_forest_S.predict(new_sample)[0])"
   ]
  },
  {
   "cell_type": "markdown",
   "metadata": {},
   "source": [
    "#  Final Model without data augmentation"
   ]
  },
  {
   "cell_type": "code",
   "execution_count": 26,
   "metadata": {},
   "outputs": [
    {
     "name": "stdout",
     "output_type": "stream",
     "text": [
      "Model Prediction:  0\n"
     ]
    }
   ],
   "source": [
    "new_sample = X[0:1]\n",
    "print(\"Model Prediction: \", random_forest.predict(new_sample)[0])"
   ]
  },
  {
   "cell_type": "code",
   "execution_count": 34,
   "metadata": {},
   "outputs": [
    {
     "name": "stdout",
     "output_type": "stream",
     "text": [
      "       wl_1      wl_2      wl_3      wl_4      wl_5      wl_6      wl_7  \\\n",
      "1  0.994748  0.994386  0.994471  0.994956  0.995422  0.995539  0.995425   \n",
      "\n",
      "       wl_8      wl_9     wl_10  ...  wl_2532   wl_2533  wl_2534  wl_2535  \\\n",
      "1  0.995358  0.995322  0.995142  ...  0.27183  0.272295  0.27395  0.27637   \n",
      "\n",
      "    wl_2536   wl_2537   wl_2538   wl_2539   wl_2540   wl_2541  \n",
      "1  0.278466  0.278616  0.276315  0.273005  0.270592  0.270063  \n",
      "\n",
      "[1 rows x 2541 columns]\n"
     ]
    }
   ],
   "source": [
    "print(X[1:2])"
   ]
  },
  {
   "cell_type": "code",
   "execution_count": 41,
   "metadata": {},
   "outputs": [
    {
     "name": "stdout",
     "output_type": "stream",
     "text": [
      "Model Prediction:  5\n"
     ]
    }
   ],
   "source": [
    "new_sample = X[21:22]\n",
    "print(\"Model Prediction: \", random_forest_S.predict(new_sample)[0])"
   ]
  },
  {
   "cell_type": "code",
   "execution_count": 28,
   "metadata": {},
   "outputs": [],
   "source": []
  },
  {
   "cell_type": "code",
   "execution_count": 37,
   "metadata": {},
   "outputs": [],
   "source": []
  },
  {
   "cell_type": "code",
   "execution_count": null,
   "metadata": {},
   "outputs": [],
   "source": []
  },
  {
   "cell_type": "code",
   "execution_count": null,
   "metadata": {},
   "outputs": [],
   "source": []
  },
  {
   "cell_type": "code",
   "execution_count": null,
   "metadata": {},
   "outputs": [],
   "source": []
  },
  {
   "cell_type": "code",
   "execution_count": null,
   "metadata": {},
   "outputs": [],
   "source": []
  },
  {
   "cell_type": "code",
   "execution_count": null,
   "metadata": {},
   "outputs": [],
   "source": []
  },
  {
   "cell_type": "code",
   "execution_count": null,
   "metadata": {},
   "outputs": [],
   "source": []
  },
  {
   "cell_type": "code",
   "execution_count": null,
   "metadata": {},
   "outputs": [],
   "source": []
  },
  {
   "cell_type": "code",
   "execution_count": null,
   "metadata": {},
   "outputs": [],
   "source": []
  },
  {
   "cell_type": "code",
   "execution_count": null,
   "metadata": {},
   "outputs": [],
   "source": []
  }
 ],
 "metadata": {
  "kernelspec": {
   "display_name": "Python 3",
   "language": "python",
   "name": "python3"
  },
  "language_info": {
   "codemirror_mode": {
    "name": "ipython",
    "version": 3
   },
   "file_extension": ".py",
   "mimetype": "text/x-python",
   "name": "python",
   "nbconvert_exporter": "python",
   "pygments_lexer": "ipython3",
   "version": "3.8.5"
  }
 },
 "nbformat": 4,
 "nbformat_minor": 2
}
